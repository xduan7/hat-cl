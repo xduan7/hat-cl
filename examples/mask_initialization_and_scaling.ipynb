{
 "cells": [
  {
   "cell_type": "markdown",
   "source": [
    "# Comparison between Different HAT Mask Initialization/Scaling Methods\n",
    "\n",
    "This file aims investigate the effect of different HAT mask initialization/scaling methods on the convergence and regularization of HAT networks.\n",
    "\n",
    "The mask initialization/scaling methods are:\n",
    "- Normal initialization and linear scaling (proposed in in the paper)\n",
    "- Dense initialization and cosine scaling\n",
    "\n",
    "Normal initialization initialize the mask attention with a normal distribution with mean 0 and standard deviation 1. Whereas dense initialization initialize the mask attention with constant 1."
   ],
   "metadata": {
    "collapsed": false
   }
  },
  {
   "cell_type": "markdown",
   "source": [
    "## Original HAT Implementation\n",
    "\n",
    "First, we demonstrate the problem with the original HAT implementation.\n",
    "\n",
    "The implementation was taken from [Overcoming Catastrophic Forgetting with Hard Attention to the Task](https://github.com/joansj/hat) with minor modifications."
   ],
   "metadata": {
    "collapsed": false
   }
  },
  {
   "cell_type": "code",
   "execution_count": 1,
   "outputs": [],
   "source": [
    "import torch.nn as nn\n",
    "\n",
    "\n",
    "class OriginalHATNetwork(nn.Module):\n",
    "    def __init__(self):\n",
    "        super().__init__()\n",
    "        self.fc1 = nn.Linear(2, 1)\n",
    "        self.efc1 = nn.Embedding(1, 1)\n",
    "        self.gate = nn.Sigmoid()\n",
    "\n",
    "    def forward(self, t, x, s=1):\n",
    "        mask = self.mask(t, s=s)\n",
    "        h = self.fc1(x)\n",
    "        y = h * mask.expand_as(h)\n",
    "        return y, mask\n",
    "\n",
    "    def mask(self, t, s=1):\n",
    "        return self.gate(s * self.efc1(t))\n",
    "\n",
    "    def get_view_for(self, n, masks):\n",
    "        gfc1 = masks\n",
    "        if n == \"fc1.weight\":\n",
    "            return gfc1.data.view(-1, 1).expand_as(self.fc1.weight)\n",
    "        elif n == \"fc1.bias\":\n",
    "            return gfc1.data.view(-1)\n",
    "        return None"
   ],
   "metadata": {
    "collapsed": false,
    "ExecuteTime": {
     "start_time": "2023-04-30T10:00:59.502327Z",
     "end_time": "2023-04-30T10:01:00.429196Z"
    }
   }
  },
  {
   "cell_type": "markdown",
   "source": [
    "The dataset has two features (x0 and x1) and one target (y). The features are in normal distribution, and the target is linearly dependent on x0.\n",
    "We measure the number of batches it takes for the network to converge (i.e. the loss of the test set is less than a threshold)."
   ],
   "metadata": {
    "collapsed": false
   }
  },
  {
   "cell_type": "code",
   "execution_count": 2,
   "outputs": [],
   "source": [
    "import torch\n",
    "\n",
    "num_samples = 1000\n",
    "num_features = 2\n",
    "\n",
    "features = torch.randn(num_samples, num_features)\n",
    "targets = 2 * features[:, 0] + 1\n",
    "targets = targets.view(-1, 1)\n",
    "\n",
    "# Split the dataset into train and test sets.\n",
    "trn_ratio = 0.8\n",
    "num_train_samples = int(num_samples * trn_ratio)\n",
    "trn_x, tst_x = features[:num_train_samples], features[num_train_samples:]\n",
    "trn_y, tst_y = targets[:num_train_samples], targets[num_train_samples:]\n",
    "\n",
    "# Construct dataloaders for the train and test sets.\n",
    "trn_dataloader = torch.utils.data.DataLoader(\n",
    "    dataset=torch.utils.data.TensorDataset(trn_x, trn_y),\n",
    "    shuffle=True,\n",
    "    batch_size=32,\n",
    ")\n",
    "tst_dataloader = torch.utils.data.DataLoader(\n",
    "    dataset=torch.utils.data.TensorDataset(tst_x, tst_y),\n",
    "    batch_size=32,\n",
    ")"
   ],
   "metadata": {
    "collapsed": false,
    "ExecuteTime": {
     "start_time": "2023-04-30T10:01:00.429080Z",
     "end_time": "2023-04-30T10:01:00.430889Z"
    }
   }
  },
  {
   "cell_type": "markdown",
   "source": [
    "The training function is also taken from the original implementation."
   ],
   "metadata": {
    "collapsed": false
   }
  },
  {
   "cell_type": "code",
   "execution_count": 3,
   "outputs": [],
   "source": [
    "from hat.constants import (\n",
    "    DEF_HAT_MAX_TRN_MASK_SCALE,\n",
    "    DEF_HAT_GRAD_COMP_CLAMP,\n",
    "    DEF_HAT_ATTN_CLAMP,\n",
    ")\n",
    "\n",
    "# device = torch.device(\"cuda\" if torch.cuda.is_available() else \"cpu\")\n",
    "device = torch.device(\"cpu\")\n",
    "convergence_threshold = 0.1\n",
    "learning_rate = 0.01\n",
    "momentum = 0.9\n",
    "\n",
    "\n",
    "def original_convergence_trial(\n",
    "    model: OriginalHATNetwork,\n",
    "    max_num_epochs: int,\n",
    "):\n",
    "    _model = model.to(device)\n",
    "    _optimizer = torch.optim.SGD(\n",
    "        _model.parameters(),\n",
    "        lr=learning_rate,\n",
    "        momentum=momentum,\n",
    "    )\n",
    "    _criterion = nn.MSELoss()\n",
    "\n",
    "    def __is_converged() -> bool:\n",
    "        __tst_loss = 0\n",
    "        with torch.no_grad():\n",
    "            for __x, __y in tst_dataloader:\n",
    "                __pred, _ = _model.forward(\n",
    "                    torch.as_tensor(0),\n",
    "                    __x,\n",
    "                    DEF_HAT_MAX_TRN_MASK_SCALE,\n",
    "                )\n",
    "                __tst_loss += _criterion(__pred, __y).item()\n",
    "        __tst_loss /= len(tst_dataloader)\n",
    "        return __tst_loss < convergence_threshold\n",
    "\n",
    "    def __get_trn_mask_scale(\n",
    "        curr_batch: int,\n",
    "        max_num_batches: int,\n",
    "    ) -> float:\n",
    "        ___min_trn_mask_scale = 1 / DEF_HAT_MAX_TRN_MASK_SCALE\n",
    "        return (\n",
    "            DEF_HAT_MAX_TRN_MASK_SCALE - ___min_trn_mask_scale\n",
    "        ) * curr_batch / max_num_batches + ___min_trn_mask_scale\n",
    "\n",
    "    # Train the model for `num_epochs` epochs\n",
    "    _num_batches = 0\n",
    "    for _ in range(max_num_epochs):\n",
    "        for __i, (__x, __y) in enumerate(trn_dataloader):\n",
    "            _optimizer.zero_grad()\n",
    "            __trn_mask_scale = __get_trn_mask_scale(\n",
    "                curr_batch=__i,\n",
    "                max_num_batches=(len(trn_dataloader) - 1),\n",
    "            )\n",
    "            __pred, __masks = _model.forward(\n",
    "                torch.as_tensor(0),\n",
    "                __x,\n",
    "                __trn_mask_scale,\n",
    "            )\n",
    "            __loss = _criterion(__pred, __y)\n",
    "\n",
    "            # L1 regularization for the masks\n",
    "            # From the `criterion()` in the original implementation.\n",
    "            # At this point, we ignore the regularization term because\n",
    "            # we are mostly focusing on the initialization of masks.\n",
    "            # __reg, __cnt = 0, 0\n",
    "            # for __m in __masks:\n",
    "            #     __reg += __m.sum()\n",
    "            #     __cnt += np.prod(__m.size()).item()\n",
    "            # __reg /= __cnt\n",
    "            # __loss += __reg\n",
    "\n",
    "            __loss.backward()\n",
    "\n",
    "            # Restrict layer gradients in backprop\n",
    "            # Since this is the first task, there is restriction\n",
    "\n",
    "            # Compensate embedding gradients\n",
    "            for __n, __p in _model.named_parameters():\n",
    "                if __n.startswith(\"e\"):\n",
    "                    __num = (\n",
    "                        torch.cosh(\n",
    "                            torch.clamp(\n",
    "                                __trn_mask_scale * __p.data,\n",
    "                                -DEF_HAT_GRAD_COMP_CLAMP,\n",
    "                                DEF_HAT_GRAD_COMP_CLAMP,\n",
    "                            )\n",
    "                        )\n",
    "                        + 1\n",
    "                    )\n",
    "                    __den = torch.cosh(__p.data) + 1\n",
    "                    __p.grad.data *= (\n",
    "                        DEF_HAT_MAX_TRN_MASK_SCALE\n",
    "                        / __trn_mask_scale\n",
    "                        * __num\n",
    "                        / __den\n",
    "                    )\n",
    "\n",
    "            _num_batches += 1\n",
    "            _optimizer.step()\n",
    "\n",
    "            # Constrain embeddings\n",
    "            for __n, __p in _model.named_parameters():\n",
    "                if __n.startswith(\"e\"):\n",
    "                    __p.data = torch.clamp(\n",
    "                        __p.data,\n",
    "                        -DEF_HAT_ATTN_CLAMP,\n",
    "                        DEF_HAT_ATTN_CLAMP,\n",
    "                    )\n",
    "\n",
    "            if __is_converged():\n",
    "                return _num_batches\n",
    "    return None"
   ],
   "metadata": {
    "collapsed": false,
    "ExecuteTime": {
     "start_time": "2023-04-30T10:01:00.434822Z",
     "end_time": "2023-04-30T10:01:00.575774Z"
    }
   }
  },
  {
   "cell_type": "markdown",
   "source": [
    "Now let's train multiple model instances and see how many batches it takes for the model to converge (or not)."
   ],
   "metadata": {
    "collapsed": false
   }
  },
  {
   "cell_type": "code",
   "execution_count": 4,
   "outputs": [
    {
     "name": "stdout",
     "output_type": "stream",
     "text": [
      "Original HAT model converged in 88.83 batches on average.\n"
     ]
    }
   ],
   "source": [
    "import numpy as np\n",
    "\n",
    "num_trials = 100\n",
    "max_num_epochs = 100\n",
    "\n",
    "original_hat_num_batches = [\n",
    "    original_convergence_trial(OriginalHATNetwork(), max_num_epochs)\n",
    "    for _ in range(num_trials)\n",
    "]\n",
    "if None in original_hat_num_batches:\n",
    "    __num_failed_trials = original_hat_num_batches.count(None)\n",
    "    print(\n",
    "        f\"{__num_failed_trials} out of {num_trials} trials \"\n",
    "        f\"failed to converge in the given number of epochs.\"\n",
    "    )\n",
    "    original_hat_num_batches = [\n",
    "        __i for __i in original_hat_num_batches if __i is not None\n",
    "    ]\n",
    "original_hat_num_batches = np.array(original_hat_num_batches)\n",
    "print(\n",
    "    f\"Original HAT model converged in \"\n",
    "    f\"{original_hat_num_batches.mean():.2f} batches on average.\"\n",
    ")"
   ],
   "metadata": {
    "collapsed": false,
    "ExecuteTime": {
     "start_time": "2023-04-30T10:01:00.578408Z",
     "end_time": "2023-04-30T10:01:20.002039Z"
    }
   }
  },
  {
   "cell_type": "markdown",
   "source": [
    "Note that the simple network takes absurd number of batches to converge.\n",
    "\n",
    "This is due to the random initialization of the model parameters.\n",
    "If the weight of x0 and bias is negative at the beginning, the model will likely to shut down the hard attention due to negative correlation between input and the output. This will lead to the model not being able to learn anything unless the mask scale is very small, which only happens at the beginning of each epoch.\n",
    "So essentially, the first few epochs are wasted except for the every beginning of each epoch when the mask scale is very small, if the model is initialized with wrong direction.\n",
    "\n",
    "To verify this, we can try to train the model with positive weight for x0 and bias."
   ],
   "metadata": {
    "collapsed": false
   }
  },
  {
   "cell_type": "code",
   "execution_count": 5,
   "outputs": [
    {
     "name": "stdout",
     "output_type": "stream",
     "text": [
      "Original HAT model with modified weights converged in 13.29 batches on average.\n"
     ]
    }
   ],
   "source": [
    "modified_original_hat_num_batches = []\n",
    "for _ in range(num_trials):\n",
    "    _model = OriginalHATNetwork()\n",
    "    _model.fc1.weight.data[0, 0] = torch.abs(_model.fc1.weight.data[0, 0])\n",
    "    _model.fc1.bias.data = torch.abs(_model.fc1.bias.data)\n",
    "    modified_original_hat_num_batches.append(\n",
    "        original_convergence_trial(_model, max_num_epochs)\n",
    "    )\n",
    "if None in original_hat_num_batches:\n",
    "    __num_failed_trials = modified_original_hat_num_batches.count(None)\n",
    "    print(\n",
    "        f\"{__num_failed_trials} out of {num_trials} trials \"\n",
    "        f\"failed to converge in the given number of epochs.\"\n",
    "    )\n",
    "    modified_original_hat_num_batches = [\n",
    "        __i for __i in modified_original_hat_num_batches if __i is not None\n",
    "    ]\n",
    "modified_original_hat_num_batches = np.array(modified_original_hat_num_batches)\n",
    "print(\n",
    "    f\"Original HAT model with modified weights converged in \"\n",
    "    f\"{modified_original_hat_num_batches.mean():.2f} batches on average.\"\n",
    ")"
   ],
   "metadata": {
    "collapsed": false,
    "ExecuteTime": {
     "start_time": "2023-04-30T10:01:19.893356Z",
     "end_time": "2023-04-30T10:01:22.856366Z"
    }
   }
  },
  {
   "cell_type": "markdown",
   "source": [
    "## Solution\n",
    "\n",
    "The reason for such slow convergence is because the model is training the weight and the attention at the same time.\n",
    "If the random initialization of the weight is bad, the attention might shut down, which in turn makes the weight almost un-trainable for the rest of the epoch.\n",
    "\n",
    "Note that this is less of a problem if the model is over-parameterized, because the chance of all the parameters being initialized to bad values is very low.\n",
    "However, in the case of continual learning, we might run into this problem when there are too many tasks to learn.\n",
    "The later tasks might not have the luxury of having a large number of trainable parameters.\n",
    "\n",
    "The solution is to train the weight first so that the weights are in the right direction.\n",
    "Then, we can train the attention to gradually mask out the irrelevant features. And finally, we can train the weight again to fine-tune the model with binary attention masks.\n",
    "\n",
    "To achieve this, we need to initialize the attention so that all weights are trainable at the beginning.\n",
    "And we need to modify the scale of the attention masks so that it's high at the beginning and the end, and low in the middle.\n",
    "\n",
    "We propose dense initialization for the attention masks and cosine scaling for the attention masks.\n",
    "Dense initialization means that we initialize the attention masks with a value of 1.\n",
    "And cosine scaling means that we scale the attention masks with a cosine function.\n",
    "Here is a visualization of the cosine scaling."
   ],
   "metadata": {
    "collapsed": false
   }
  },
  {
   "cell_type": "code",
   "execution_count": 6,
   "outputs": [
    {
     "data": {
      "text/plain": "<Figure size 1000x500 with 2 Axes>",
      "image/png": "[encoded data removed]"
     },
     "metadata": {},
     "output_type": "display_data"
    }
   ],
   "source": [
    "# Visualizing different mask scaling methods\n",
    "import matplotlib.pyplot as plt\n",
    "\n",
    "from hat.utils import get_hat_mask_scale\n",
    "\n",
    "progress = np.linspace(0, 1, 100)\n",
    "linear_scale = np.array(\n",
    "    [\n",
    "        get_hat_mask_scale(\n",
    "            \"linear\",\n",
    "            progress=__p,\n",
    "        )\n",
    "        for __p in progress\n",
    "    ]\n",
    ")\n",
    "cosine_scale = np.array(\n",
    "    [\n",
    "        get_hat_mask_scale(\n",
    "            \"cosine\",\n",
    "            progress=__p,\n",
    "        )\n",
    "        for __p in progress\n",
    "    ]\n",
    ")\n",
    "\n",
    "fig, (ax1, ax2) = plt.subplots(1, 2, figsize=(10, 5))\n",
    "ax1.plot(progress, linear_scale)\n",
    "ax1.set_title(\"Linear Scaling\")\n",
    "ax1.set_xlabel(\"Progress (in a Single Epoch)\")\n",
    "ax1.set_ylabel(\"Mask Scale\")\n",
    "ax2.plot(progress, cosine_scale)\n",
    "ax2.set_title(\"Cosine Scaling\")\n",
    "ax2.set_xlabel(\"Progress (in a Single Epoch)\")\n",
    "ax2.set_ylabel(\"Mask Scale\")\n",
    "plt.show()"
   ],
   "metadata": {
    "collapsed": false,
    "ExecuteTime": {
     "start_time": "2023-04-30T10:01:22.855708Z",
     "end_time": "2023-04-30T10:01:23.346778Z"
    }
   }
  },
  {
   "cell_type": "markdown",
   "source": [
    "## On the Convergence of HAT Networks\n",
    "\n",
    "Now let's test the convergence of the HAT network with the proposed solution v.s. the original approach, implemented with this library.\n",
    "\n",
    "The network has three different configurations:\n",
    "- Input mask only\n",
    "- Output mask only\n",
    "- Input and output mask"
   ],
   "metadata": {
    "collapsed": false
   }
  },
  {
   "cell_type": "code",
   "execution_count": 7,
   "outputs": [],
   "source": [
    "# Create a function that trains a model for `num_epochs` epochs\n",
    "# and returns the number of batches it takes to converge.\n",
    "# If the model fails to converge, return None.\n",
    "def convergence_trial(\n",
    "    model: nn.Module,\n",
    "    max_num_epochs: int,\n",
    ") -> int:\n",
    "    _model = model.to(device)\n",
    "    _optimizer = torch.optim.SGD(\n",
    "        _model.parameters(),\n",
    "        lr=learning_rate,\n",
    "        momentum=momentum,\n",
    "    )\n",
    "    _criterion = nn.MSELoss()\n",
    "\n",
    "    def __is_converged() -> bool:\n",
    "        tst_loss = 0\n",
    "        with torch.no_grad():\n",
    "            for __x, __y in tst_dataloader:\n",
    "                try:\n",
    "                    __pred = _model.forward(__x, None)\n",
    "                except TypeError:\n",
    "                    __pred = _model.forward(__x)\n",
    "                __loss = _criterion(__pred, __y)\n",
    "                tst_loss += __loss.item()\n",
    "        tst_loss /= len(tst_dataloader)\n",
    "        return tst_loss < convergence_threshold\n",
    "\n",
    "    # Train the model for `num_epochs` epochs\n",
    "    num_batches = 0\n",
    "    for _ in range(max_num_epochs):\n",
    "        for __i, (__x, __y) in enumerate(trn_dataloader):\n",
    "            _optimizer.zero_grad()\n",
    "            # Progress is required for the HAT mask scaling method\n",
    "            __progress = __i / (len(trn_dataloader) - 1)\n",
    "            try:\n",
    "                __pred = _model.forward(__x, __progress)\n",
    "            except TypeError:\n",
    "                __pred = _model.forward(__x)\n",
    "            __loss = _criterion(__pred, __y)\n",
    "            __loss.backward()\n",
    "            num_batches += 1\n",
    "            _optimizer.step()\n",
    "            if __is_converged():\n",
    "                return num_batches\n",
    "    return None"
   ],
   "metadata": {
    "collapsed": false,
    "ExecuteTime": {
     "start_time": "2023-04-30T10:01:23.346259Z",
     "end_time": "2023-04-30T10:01:23.350807Z"
    }
   }
  },
  {
   "cell_type": "code",
   "execution_count": 8,
   "outputs": [
    {
     "name": "stdout",
     "output_type": "stream",
     "text": [
      "Baseline (non-HAT) model converged in 12.58 batches on average.\n"
     ]
    }
   ],
   "source": [
    "# Check how many epochs the baseline model (no masks) takes to converge\n",
    "baseline_num_batches = [\n",
    "    convergence_trial(nn.Linear(2, 1).to(device), max_num_epochs)\n",
    "    for _ in range(num_trials)\n",
    "]\n",
    "if None in baseline_num_batches:\n",
    "    __num_failed_trials = baseline_num_batches.count(None)\n",
    "    print(\n",
    "        f\"{__num_failed_trials} out of {num_trials} trials \"\n",
    "        f\"failed to converge in the given number of epochs.\"\n",
    "    )\n",
    "    baseline_num_batches = [\n",
    "        __b for __b in baseline_num_batches if __b is not None\n",
    "    ]\n",
    "baseline_num_batches = np.array(baseline_num_batches)\n",
    "print(\n",
    "    f\"Baseline (non-HAT) model converged in \"\n",
    "    f\"{baseline_num_batches.mean():.2f} batches on average.\"\n",
    ")"
   ],
   "metadata": {
    "collapsed": false,
    "ExecuteTime": {
     "start_time": "2023-04-30T10:01:23.347433Z",
     "end_time": "2023-04-30T10:01:25.439805Z"
    }
   }
  },
  {
   "cell_type": "code",
   "execution_count": 9,
   "outputs": [],
   "source": [
    "from hat import HATConfig, HATPayload\n",
    "from hat.modules import HATLinear, HATMasker\n",
    "from hat.utils import get_hat_mask_scale\n",
    "\n",
    "\n",
    "class HATNetwork(nn.Module):\n",
    "    def __init__(\n",
    "        self,\n",
    "        num_features: int,\n",
    "        input_mask: bool,\n",
    "        output_mask: bool,\n",
    "        init_strat: str,\n",
    "        scaling_strat: str,\n",
    "    ):\n",
    "        super().__init__()\n",
    "        self.hat_config = HATConfig(\n",
    "            num_tasks=1,\n",
    "            init_strat=init_strat,\n",
    "        )\n",
    "        self.input_mask = (\n",
    "            HATMasker(\n",
    "                num_features=num_features,\n",
    "                hat_config=self.hat_config,\n",
    "            )\n",
    "            if input_mask\n",
    "            else nn.Identity()\n",
    "        )\n",
    "        self.linear = (\n",
    "            HATLinear(\n",
    "                in_features=num_features,\n",
    "                out_features=1,\n",
    "                hat_config=self.hat_config,\n",
    "            )\n",
    "            if output_mask\n",
    "            else nn.Linear(num_features, 1)\n",
    "        )\n",
    "        self.scaling_strat = scaling_strat\n",
    "        self.mask_scale = None\n",
    "\n",
    "    def forward(self, features, progress):\n",
    "        _mask_scale = (\n",
    "            get_hat_mask_scale(\n",
    "                strat=self.scaling_strat,\n",
    "                max_trn_mask_scale=self.hat_config.max_trn_mask_scale,\n",
    "                progress=progress,\n",
    "            )\n",
    "            if progress is not None\n",
    "            else self.hat_config.max_trn_mask_scale\n",
    "        )\n",
    "        # Keep track of the mask scale for reference\n",
    "        self.mask_scale = _mask_scale\n",
    "        _payload = HATPayload(\n",
    "            features,\n",
    "            task_id=0,\n",
    "            mask_scale=_mask_scale,\n",
    "        )\n",
    "        _payload = self.input_mask(_payload)\n",
    "        if isinstance(self.linear, HATLinear):\n",
    "            return self.linear(_payload).data\n",
    "        else:\n",
    "            return self.linear(_payload.data)"
   ],
   "metadata": {
    "collapsed": false,
    "ExecuteTime": {
     "start_time": "2023-04-30T10:01:25.440723Z",
     "end_time": "2023-04-30T10:01:25.446169Z"
    }
   }
  },
  {
   "cell_type": "code",
   "execution_count": 10,
   "outputs": [],
   "source": [
    "# Iterate over different configurations and compare the results\n",
    "results = []\n",
    "configs = [\n",
    "    (__input_mask, __output_mask, __init_strat, __scaling_strat)\n",
    "    for __input_mask in [False, True]\n",
    "    for __output_mask in [False, True]\n",
    "    # for __init_strat in [\"normal\", \"dense\"]\n",
    "    # for __scaling_strat in [\"linear\", \"cosine\"]\n",
    "    for __init_strat, __scaling_strat in zip(\n",
    "        [\"normal\", \"dense\"],  # Default settings\n",
    "        [\"linear\", \"cosine\"],\n",
    "    )\n",
    "]\n",
    "for __input_mask, __output_mask, __init_strat, __scaling_strat in configs:\n",
    "    if not __input_mask and not __output_mask:\n",
    "        continue\n",
    "    __num_batches = [\n",
    "        convergence_trial(\n",
    "            HATNetwork(\n",
    "                2,\n",
    "                __input_mask,\n",
    "                __output_mask,\n",
    "                __init_strat,\n",
    "                __scaling_strat,\n",
    "            ).to(device),\n",
    "            max_num_epochs,\n",
    "        )\n",
    "        for _ in range(num_trials)\n",
    "    ]\n",
    "    if None in __num_batches:\n",
    "        __num_failed_trials = __num_batches.count(None)\n",
    "        __num_batches = [\n",
    "            __num_batch\n",
    "            for __num_batch in __num_batches\n",
    "            if __num_batch is not None\n",
    "        ]\n",
    "        __fail_rate = __num_failed_trials / num_trials\n",
    "    else:\n",
    "        __fail_rate = 0\n",
    "    __num_batches = np.array(__num_batches)\n",
    "    __avg_num_batches = __num_batches.mean()\n",
    "    __result = [\n",
    "        __input_mask,\n",
    "        __output_mask,\n",
    "        __init_strat,\n",
    "        __scaling_strat,\n",
    "        __avg_num_batches,\n",
    "        __fail_rate,\n",
    "    ]\n",
    "    results.append(__result)"
   ],
   "metadata": {
    "collapsed": false,
    "ExecuteTime": {
     "start_time": "2023-04-30T10:01:25.449838Z",
     "end_time": "2023-04-30T10:03:15.395526Z"
    }
   }
  },
  {
   "cell_type": "code",
   "execution_count": 11,
   "outputs": [
    {
     "name": "stdout",
     "output_type": "stream",
     "text": [
      "╒═══════════╤════════════╤══════════════╤═════════════════╤═══════════════════╕\n",
      "│  In Mask  │  Out Mask  │  Init Strat  │  Scaling Strat  │  Avg Num Batches  │\n",
      "╞═══════════╪════════════╪══════════════╪═════════════════╪═══════════════════╡\n",
      "│   False   │    True    │    normal    │     linear      │       90.33       │\n",
      "│   False   │    True    │    dense     │     cosine      │       12.53       │\n",
      "│   True    │   False    │    normal    │     linear      │       99.40       │\n",
      "│   True    │   False    │    dense     │     cosine      │       12.60       │\n",
      "│   True    │    True    │    normal    │     linear      │      179.63       │\n",
      "│   True    │    True    │    dense     │     cosine      │       12.43       │\n",
      "╘═══════════╧════════════╧══════════════╧═════════════════╧═══════════════════╛\n"
     ]
    }
   ],
   "source": [
    "import pandas as pd\n",
    "\n",
    "result_df = pd.DataFrame(\n",
    "    results,\n",
    "    columns=[\n",
    "        \"In Mask\",\n",
    "        \"Out Mask\",\n",
    "        \"Init Strat\",\n",
    "        \"Scaling Strat\",\n",
    "        \"Avg Num Batches\",\n",
    "        \"Fail Rate\",\n",
    "    ],\n",
    ")\n",
    "# result_df[\"Fail Rate\"] = result_df[\"Fail Rate\"].apply(\n",
    "#     lambda x: f\"{100.0 * x:.1f}%\"\n",
    "# )\n",
    "if result_df[\"Fail Rate\"].max() > 0.0:\n",
    "    result_df[\"Fail Rate\"] = result_df[\"Fail Rate\"].apply(\n",
    "        lambda x: f\"{100.0 * x:.1f}%\"\n",
    "    )\n",
    "else:\n",
    "    result_df.drop(\"Fail Rate\", axis=1, inplace=True)\n",
    "print(\n",
    "    result_df.to_markdown(\n",
    "        index=False,\n",
    "        floatfmt=\".2f\",\n",
    "        tablefmt=\"fancy_outline\",\n",
    "        stralign=\"center\",\n",
    "        numalign=\"center\",\n",
    "    )\n",
    ")"
   ],
   "metadata": {
    "collapsed": false,
    "ExecuteTime": {
     "start_time": "2023-04-30T10:03:15.404359Z",
     "end_time": "2023-04-30T10:03:15.409222Z"
    }
   }
  },
  {
   "cell_type": "markdown",
   "source": [
    "## Regularization\n",
    "\n",
    "Dense initialization makes the attention values start at 1.0, so naturally it raises the question: are they as easy to regularize as the baseline model? Because we certainly don't want redundant hard attention masks, which leaves less parameters for later tasks.\n",
    "\n",
    "Let's find out.\n",
    "\n",
    "We construct a new dataset where the target `y` is a linear combination of some of the features: `y = x0 - 2*x2 + 3*x4`. Then we compare how long does it take for a HAT model (with input and output masks) to recognize and zero out the redundant attention weights."
   ],
   "metadata": {
    "collapsed": false
   }
  },
  {
   "cell_type": "code",
   "execution_count": 12,
   "outputs": [],
   "source": [
    "num_samples = 1000\n",
    "num_features = 5\n",
    "\n",
    "features = torch.randn(num_samples, num_features)\n",
    "targets = features[:, 0] - 2 * features[:, 2] + 3 * features[:, 4]\n",
    "targets = targets.view(-1, 1)\n",
    "\n",
    "# Split the dataset into train and test sets.\n",
    "trn_ratio = 0.8\n",
    "num_train_samples = int(num_samples * trn_ratio)\n",
    "trn_x, tst_x = features[:num_train_samples], features[num_train_samples:]\n",
    "trn_y, tst_y = targets[:num_train_samples], targets[num_train_samples:]\n",
    "\n",
    "# Construct dataloaders for the train and test sets.\n",
    "trn_dataloader = torch.utils.data.DataLoader(\n",
    "    dataset=torch.utils.data.TensorDataset(trn_x, trn_y),\n",
    "    shuffle=True,\n",
    "    batch_size=32,\n",
    ")\n",
    "tst_dataloader = torch.utils.data.DataLoader(\n",
    "    dataset=torch.utils.data.TensorDataset(tst_x, tst_y),\n",
    "    batch_size=32,\n",
    ")"
   ],
   "metadata": {
    "collapsed": false,
    "ExecuteTime": {
     "start_time": "2023-04-30T10:03:15.409682Z",
     "end_time": "2023-04-30T10:03:15.432838Z"
    }
   }
  },
  {
   "cell_type": "code",
   "execution_count": 13,
   "outputs": [],
   "source": [
    "from hat.utils import get_hat_reg_term\n",
    "\n",
    "\n",
    "def regularization_trial(\n",
    "    model: nn.Module,\n",
    "    max_num_epochs: int,\n",
    "    regularization_factor: float = 1.0,\n",
    ") -> int:\n",
    "    _model = model.to(device)\n",
    "    _optimizer = torch.optim.SGD(\n",
    "        _model.parameters(),\n",
    "        lr=learning_rate,\n",
    "        momentum=momentum,\n",
    "    )\n",
    "    _criterion = nn.MSELoss()\n",
    "\n",
    "    def __is_mask_regularized() -> bool:\n",
    "        __input_mask = _model.input_mask.get_binary_mask(0)\n",
    "        __output_mask = _model.linear.masker.get_binary_mask(0)\n",
    "        # Strict condition\n",
    "        __input_mask_reg = torch.all(\n",
    "            __input_mask == torch.BoolTensor([1, 0, 1, 0, 1])\n",
    "        ).item()\n",
    "        # Relaxed condition: mask 0, 2, and 4 are all 1\n",
    "        # __input_mask_reg = __input_mask[0] & __input_mask[2] & __input_mask[4]\n",
    "        __output_mask_reg = torch.all(\n",
    "            __output_mask == torch.BoolTensor([1])\n",
    "        ).item()\n",
    "        return __input_mask_reg & __output_mask_reg\n",
    "\n",
    "    # Train the model for `num_epochs` epochs\n",
    "    _num_batches = 0\n",
    "    for _ in range(max_num_epochs):\n",
    "        for __i, (__x, __y) in enumerate(trn_dataloader):\n",
    "            _optimizer.zero_grad()\n",
    "            # Progress is required for the HAT mask scaling method\n",
    "            __progress = __i / (len(trn_dataloader) - 1)\n",
    "            try:\n",
    "                __pred = _model.forward(__x, __progress)\n",
    "            except TypeError:\n",
    "                __pred = _model.forward(__x)\n",
    "            __loss = _criterion(__pred, __y)\n",
    "            __reg = (\n",
    "                get_hat_reg_term(\n",
    "                    _model,\n",
    "                    strat=\"uniform\",\n",
    "                    task_id=0,\n",
    "                    mask_scale=_model.mask_scale,\n",
    "                    forgive_quota=False,\n",
    "                )\n",
    "                * regularization_factor\n",
    "            )\n",
    "            # print(f\"loss: {__loss}; reg: {__reg}\")\n",
    "            __loss += __reg\n",
    "            __loss.backward()\n",
    "            _num_batches += 1\n",
    "            _optimizer.step()\n",
    "        if __is_mask_regularized():\n",
    "            return _num_batches\n",
    "    return None"
   ],
   "metadata": {
    "collapsed": false,
    "ExecuteTime": {
     "start_time": "2023-04-30T10:03:15.437148Z",
     "end_time": "2023-04-30T10:03:15.443399Z"
    }
   }
  },
  {
   "cell_type": "code",
   "execution_count": 14,
   "outputs": [],
   "source": [
    "results = []\n",
    "for __init_strat, __scaling_strat in zip(\n",
    "    [\"normal\", \"dense\"],  # Default settings\n",
    "    [\"linear\", \"cosine\"],\n",
    "):\n",
    "    __num_batches = [\n",
    "        regularization_trial(\n",
    "            HATNetwork(\n",
    "                5,\n",
    "                True,\n",
    "                True,\n",
    "                __init_strat,\n",
    "                __scaling_strat,\n",
    "            ).to(device),\n",
    "            max_num_epochs,\n",
    "        )\n",
    "        for _ in range(num_trials)\n",
    "    ]\n",
    "    if None in __num_batches:\n",
    "        __num_failed_trials = __num_batches.count(None)\n",
    "        __num_batches = [\n",
    "            __num_batch\n",
    "            for __num_batch in __num_batches\n",
    "            if __num_batch is not None\n",
    "        ]\n",
    "        __fail_rate = __num_failed_trials / num_trials\n",
    "    else:\n",
    "        __fail_rate = 0\n",
    "    __num_batches = np.array(__num_batches)\n",
    "    __avg_num_batches = __num_batches.mean()\n",
    "    __result = [\n",
    "        __init_strat,\n",
    "        __scaling_strat,\n",
    "        __avg_num_batches,\n",
    "        __fail_rate,\n",
    "    ]\n",
    "    results.append(__result)"
   ],
   "metadata": {
    "collapsed": false,
    "ExecuteTime": {
     "start_time": "2023-04-30T10:03:15.447067Z",
     "end_time": "2023-04-30T10:04:00.963384Z"
    }
   }
  },
  {
   "cell_type": "code",
   "execution_count": 15,
   "outputs": [
    {
     "name": "stdout",
     "output_type": "stream",
     "text": [
      "╒══════════════╤═════════════════╤═══════════════════╕\n",
      "│  Init Strat  │  Scaling Strat  │  Avg Num Batches  │\n",
      "╞══════════════╪═════════════════╪═══════════════════╡\n",
      "│    normal    │     linear      │      338.50       │\n",
      "│    dense     │     cosine      │       25.00       │\n",
      "╘══════════════╧═════════════════╧═══════════════════╛\n"
     ]
    }
   ],
   "source": [
    "result_df = pd.DataFrame(\n",
    "    results,\n",
    "    columns=[\n",
    "        \"Init Strat\",\n",
    "        \"Scaling Strat\",\n",
    "        \"Avg Num Batches\",\n",
    "        \"Fail Rate\",\n",
    "    ],\n",
    ")\n",
    "if result_df[\"Fail Rate\"].max() > 0.0:\n",
    "    result_df[\"Fail Rate\"] = result_df[\"Fail Rate\"].apply(\n",
    "        lambda x: f\"{100.0 * x:.1f}%\"\n",
    "    )\n",
    "else:\n",
    "    result_df.drop(\"Fail Rate\", axis=1, inplace=True)\n",
    "print(\n",
    "    result_df.to_markdown(\n",
    "        index=False,\n",
    "        floatfmt=\".2f\",\n",
    "        tablefmt=\"fancy_outline\",\n",
    "        stralign=\"center\",\n",
    "        numalign=\"center\",\n",
    "    )\n",
    ")"
   ],
   "metadata": {
    "collapsed": false,
    "ExecuteTime": {
     "start_time": "2023-04-30T10:04:00.963022Z",
     "end_time": "2023-04-30T10:04:00.964295Z"
    }
   }
  },
  {
   "cell_type": "markdown",
   "source": [
    "It is clear that dense initialization with cosine scaling strategy works much better for both weight convergence and mask regularization.\n",
    "Despite the fact that such improvement might not be as significant in bigger networks, it is still worth noting that the dense initialization strategy is more robust to the scaling strategy.\n",
    "\n",
    "However, dense initialization usually requires more training epochs or greater learning rate so that the masks are properly regularized.\n",
    "And adjustment to the regularization factor is often required to achieve the desired mask regularization."
   ],
   "metadata": {
    "collapsed": false
   }
  }
 ],
 "metadata": {
  "kernelspec": {
   "name": "hat-cl",
   "language": "python",
   "display_name": "Python (hat-cl)"
  },
  "language_info": {
   "codemirror_mode": {
    "name": "ipython",
    "version": 2
   },
   "file_extension": ".py",
   "mimetype": "text/x-python",
   "name": "python",
   "nbconvert_exporter": "python",
   "pygments_lexer": "ipython2",
   "version": "2.7.6"
  }
 },
 "nbformat": 4,
 "nbformat_minor": 0
}
