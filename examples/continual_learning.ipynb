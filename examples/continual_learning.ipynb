{
 "cells": [
  {
   "cell_type": "markdown",
   "source": [
    "# Continual Learning on Split CIFAR-10"
   ],
   "metadata": {
    "collapsed": false
   }
  },
  {
   "cell_type": "markdown",
   "source": [
    "## Prepare the Dataset"
   ],
   "metadata": {
    "collapsed": false
   }
  },
  {
   "cell_type": "code",
   "execution_count": 1,
   "outputs": [
    {
     "name": "stdout",
     "output_type": "stream",
     "text": [
      "Files already downloaded and verified\n",
      "Files already downloaded and verified\n"
     ]
    }
   ],
   "source": [
    "from pathlib import Path\n",
    "from avalanche.benchmarks.classic import SplitCIFAR10\n",
    "\n",
    "\n",
    "example_dir_path = Path().resolve()\n",
    "data_dir_path = Path.joinpath(example_dir_path, \"data\")\n",
    "\n",
    "split_cifar10 = SplitCIFAR10(\n",
    "    n_experiences=5,\n",
    "    dataset_root=Path.joinpath(data_dir_path, \"cifar10\"),\n",
    "    shuffle=False,\n",
    "    return_task_id=True,\n",
    "    class_ids_from_zero_in_each_exp=True,\n",
    ")"
   ],
   "metadata": {
    "collapsed": false,
    "ExecuteTime": {
     "start_time": "2023-04-18T12:36:47.199247Z",
     "end_time": "2023-04-18T12:36:50.575032Z"
    }
   }
  },
  {
   "cell_type": "markdown",
   "source": [
    "## Define the Lightning Module"
   ],
   "metadata": {
    "collapsed": false
   }
  },
  {
   "cell_type": "code",
   "execution_count": 2,
   "outputs": [],
   "source": [
    "import pytorch_lightning as pl\n",
    "import timm\n",
    "import torch\n",
    "import torch.nn as nn\n",
    "\n",
    "# Must import `hat.networks` to register the models\n",
    "# noinspection PyUnresolvedReferences\n",
    "import hat.networks\n",
    "from hat import HATConfig, HATPayload\n",
    "from hat.utils import get_hat_reg_term, get_hat_mask_scale\n",
    "\n",
    "\n",
    "class ContinualClassifier(pl.LightningModule):\n",
    "    def __init__(\n",
    "        self,\n",
    "        init_strat,\n",
    "        scaling_strat,\n",
    "        num_classes_per_exp,\n",
    "        max_mask_scale=100.0,\n",
    "    ):\n",
    "        super().__init__()\n",
    "        self.init_strat = init_strat\n",
    "        self.scaling_strat = scaling_strat\n",
    "        self.num_classes_per_exp = num_classes_per_exp\n",
    "        self.max_mask_scale = max_mask_scale\n",
    "        _hat_config = HATConfig(\n",
    "            init_strat=self.init_strat,\n",
    "            num_tasks=len(num_classes_per_exp),\n",
    "        )\n",
    "        self.backbone = timm.create_model(\n",
    "            \"hat_resnet18s\",\n",
    "            num_classes=0,\n",
    "            hat_config=_hat_config,\n",
    "        )\n",
    "        self.heads = nn.ModuleList(\n",
    "            [nn.Linear(512, __c) for __c in num_classes_per_exp]\n",
    "        )\n",
    "        self.criterion = nn.CrossEntropyLoss()\n",
    "\n",
    "    def forward(self, images, task_id, mask_scale=None):\n",
    "        _pld = HATPayload(images, task_id=task_id, mask_scale=mask_scale)\n",
    "        return self.heads[_pld.task_id](self.backbone(_pld).data)\n",
    "\n",
    "    def training_step(self, batch, batch_idx):\n",
    "        _images, _targets, _task_id = batch\n",
    "        _progress = batch_idx / (self.trainer.num_training_batches - 1)\n",
    "        _mask_scale = get_hat_mask_scale(\n",
    "            strat=self.scaling_strat,\n",
    "            max_trn_mask_scale=self.max_mask_scale,\n",
    "            progress=_progress,\n",
    "        )\n",
    "        _logits = self.forward(_images, _task_id, _mask_scale)\n",
    "        _loss = self.criterion(_logits, _targets)\n",
    "        _reg = get_hat_reg_term(\n",
    "            module=self.backbone,\n",
    "            reg_strat=\"uniform\",\n",
    "            task_id=_task_id,\n",
    "            mask_scale=_mask_scale,\n",
    "            # forgive_quota=False,\n",
    "        )\n",
    "        return _loss + _reg\n",
    "\n",
    "    def test_step(self, batch, batch_idx, dataloader_idx):\n",
    "        _images, _targets, _task_id = batch\n",
    "        # Class-incremental learning\n",
    "        # Iterate through all the tasks and compute the logits\n",
    "        _logits = []\n",
    "        for __task_id in range(len(self.heads)):\n",
    "            _logits.append(\n",
    "                self.forward(_images, __task_id, self.max_mask_scale)\n",
    "            )\n",
    "        # Class-incremental testing\n",
    "        _cil_logits = torch.cat(_logits, dim=1)\n",
    "        _cil_targets = _targets + sum(self.num_classes_per_exp[:_task_id])\n",
    "        _cil_acc = _cil_logits.argmax(dim=1) == _cil_targets\n",
    "        # Task-incremental testing\n",
    "        _til_logits = _logits[_task_id]\n",
    "        _til_acc = _til_logits.argmax(dim=1) == _targets\n",
    "        self.log_dict(\n",
    "            {\n",
    "                \"cil_acc\": _cil_acc.float().mean(),\n",
    "                \"til_acc\": _til_acc.float().mean(),\n",
    "            },\n",
    "            batch_size=_images.shape[0],\n",
    "        )\n",
    "\n",
    "    def configure_optimizers(self):\n",
    "        # Bigger learning rate or more epochs may be needed if\n",
    "        # the model is using dense initialization for HAT maskers.\n",
    "        # return torch.optim.SGD(self.parameters(), lr=1e-3)\n",
    "        return torch.optim.Adam(self.parameters(), lr=1e-2)"
   ],
   "metadata": {
    "collapsed": false,
    "ExecuteTime": {
     "start_time": "2023-04-18T12:36:50.584657Z",
     "end_time": "2023-04-18T12:36:51.128993Z"
    }
   }
  },
  {
   "cell_type": "markdown",
   "source": [
    "## Train the Model for Each Task"
   ],
   "metadata": {
    "collapsed": false
   }
  },
  {
   "cell_type": "code",
   "execution_count": 3,
   "outputs": [
    {
     "name": "stdout",
     "output_type": "stream",
     "text": [
      "Training on task/experience 0\n"
     ]
    },
    {
     "data": {
      "text/plain": "Training: 0it [00:00, ?it/s]",
      "application/vnd.jupyter.widget-view+json": {
       "version_major": 2,
       "version_minor": 0,
       "model_id": "42256744d7634b288c09ea68993678b2"
      }
     },
     "metadata": {},
     "output_type": "display_data"
    },
    {
     "name": "stdout",
     "output_type": "stream",
     "text": [
      "Training on task/experience 1\n"
     ]
    },
    {
     "data": {
      "text/plain": "Training: 0it [00:00, ?it/s]",
      "application/vnd.jupyter.widget-view+json": {
       "version_major": 2,
       "version_minor": 0,
       "model_id": "fbfc71738fe94361b3f8c6deb8a8d15d"
      }
     },
     "metadata": {},
     "output_type": "display_data"
    },
    {
     "name": "stdout",
     "output_type": "stream",
     "text": [
      "Training on task/experience 2\n"
     ]
    },
    {
     "data": {
      "text/plain": "Training: 0it [00:00, ?it/s]",
      "application/vnd.jupyter.widget-view+json": {
       "version_major": 2,
       "version_minor": 0,
       "model_id": "e117988add1a45bdb581fab02d859f81"
      }
     },
     "metadata": {},
     "output_type": "display_data"
    },
    {
     "name": "stdout",
     "output_type": "stream",
     "text": [
      "Training on task/experience 3\n"
     ]
    },
    {
     "data": {
      "text/plain": "Training: 0it [00:00, ?it/s]",
      "application/vnd.jupyter.widget-view+json": {
       "version_major": 2,
       "version_minor": 0,
       "model_id": "0f0ee597ba60459c9f796cfada4b6d2b"
      }
     },
     "metadata": {},
     "output_type": "display_data"
    },
    {
     "name": "stdout",
     "output_type": "stream",
     "text": [
      "Training on task/experience 4\n"
     ]
    },
    {
     "data": {
      "text/plain": "Training: 0it [00:00, ?it/s]",
      "application/vnd.jupyter.widget-view+json": {
       "version_major": 2,
       "version_minor": 0,
       "model_id": "e0a3318f64a141fd8b65d5fd707a23a8"
      }
     },
     "metadata": {},
     "output_type": "display_data"
    }
   ],
   "source": [
    "import logging\n",
    "import warnings\n",
    "\n",
    "from torch.utils.data import DataLoader\n",
    "\n",
    "\n",
    "log = logging.getLogger(\"pytorch_lightning\")\n",
    "log.propagate = False\n",
    "log.setLevel(logging.ERROR)\n",
    "\n",
    "log = logging.getLogger(\"lightning_fabric\")\n",
    "log.propagate = False\n",
    "log.setLevel(logging.ERROR)\n",
    "\n",
    "warnings.filterwarnings(\"ignore\", category=UserWarning)\n",
    "\n",
    "\n",
    "def collate_fn(batch):\n",
    "    images, targets, task_ids = zip(*batch)\n",
    "    return (torch.stack(images), torch.tensor(targets), int(task_ids[0]))\n",
    "\n",
    "\n",
    "clf = ContinualClassifier(\n",
    "    init_strat=\"dense\",\n",
    "    scaling_strat=\"cosine\",\n",
    "    num_classes_per_exp=split_cifar10.n_classes_per_exp,\n",
    ")\n",
    "accelerator = \"cuda\" if torch.cuda.is_available() else \"cpu\"\n",
    "strategy = (\n",
    "    \"ddp_notebook_find_unused_parameters_true\"\n",
    "    if accelerator == \"cuda\"\n",
    "    else None\n",
    ")\n",
    "\n",
    "\n",
    "for __task_id, __trn_exp in enumerate(split_cifar10.train_stream):\n",
    "    print(f\"Training on task/experience {__task_id}\")\n",
    "    _trainer = pl.Trainer(\n",
    "        max_epochs=5,\n",
    "        accelerator=accelerator,\n",
    "        # strategy=strategy,\n",
    "        devices=1,\n",
    "    )\n",
    "    _dataloader = DataLoader(\n",
    "        __trn_exp.dataset,\n",
    "        batch_size=128,\n",
    "        shuffle=True,\n",
    "        num_workers=8 if accelerator == \"cuda\" else 0,\n",
    "        pin_memory=True if accelerator == \"cuda\" else False,\n",
    "        collate_fn=collate_fn,\n",
    "    )\n",
    "    _trainer.fit(clf, _dataloader)"
   ],
   "metadata": {
    "collapsed": false,
    "ExecuteTime": {
     "start_time": "2023-04-18T12:36:51.132914Z",
     "end_time": "2023-04-18T12:39:53.830808Z"
    }
   }
  },
  {
   "cell_type": "markdown",
   "source": [
    "## Test the Model"
   ],
   "metadata": {
    "collapsed": false
   }
  },
  {
   "cell_type": "code",
   "execution_count": 4,
   "outputs": [
    {
     "data": {
      "text/plain": "Testing: 0it [00:00, ?it/s]",
      "application/vnd.jupyter.widget-view+json": {
       "version_major": 2,
       "version_minor": 0,
       "model_id": "b77de55c31f74fc79b0b9dd0af857e84"
      }
     },
     "metadata": {},
     "output_type": "display_data"
    }
   ],
   "source": [
    "clf.freeze()\n",
    "for __m in clf.modules():\n",
    "    if isinstance(__m, nn.BatchNorm2d):\n",
    "        __m.track_running_stats = False\n",
    "\n",
    "trainer = pl.Trainer(\n",
    "    accelerator=accelerator,\n",
    "    devices=1,\n",
    "    enable_model_summary=False,\n",
    ")\n",
    "tst_dataloaders = [\n",
    "    DataLoader(\n",
    "        __exp.dataset,\n",
    "        batch_size=128,\n",
    "        num_workers=8 if accelerator == \"cuda\" else 0,\n",
    "        pin_memory=True if accelerator == \"cuda\" else False,\n",
    "        collate_fn=collate_fn,\n",
    "    )\n",
    "    for __exp in split_cifar10.test_stream\n",
    "]\n",
    "tst_results = trainer.test(clf, tst_dataloaders, verbose=False)"
   ],
   "metadata": {
    "collapsed": false,
    "ExecuteTime": {
     "start_time": "2023-04-18T12:39:53.841522Z",
     "end_time": "2023-04-18T12:40:00.139980Z"
    }
   }
  },
  {
   "cell_type": "code",
   "execution_count": 5,
   "outputs": [
    {
     "name": "stdout",
     "output_type": "stream",
     "text": [
      "╒═════╤══════════╤══════════╤══════════╤══════════╤══════════╤════════╕\n",
      "│     │  Task 0  │  Task 1  │  Task 2  │  Task 3  │  Task 4  │  Avg   │\n",
      "╞═════╪══════════╪══════════╪══════════╪══════════╪══════════╪════════╡\n",
      "│ CIL │  56.60%  │  9.20%   │  36.80%  │  79.15%  │  43.20%  │ 44.99% │\n",
      "│ TIL │  92.45%  │  82.80%  │  90.75%  │  96.25%  │  94.40%  │ 91.33% │\n",
      "╘═════╧══════════╧══════════╧══════════╧══════════╧══════════╧════════╛\n"
     ]
    }
   ],
   "source": [
    "# Reformat results for better readability\n",
    "import pandas as pd\n",
    "\n",
    "reformatted_tst_results = {}\n",
    "til_acc, cil_acc = [], []\n",
    "for __tst_results in tst_results:\n",
    "    for __label, __acc in __tst_results.items():\n",
    "        __il, __dl = __label.split(\"/\")\n",
    "        __il = __il.split(\"_\")[0].upper()\n",
    "        __dl = f\"Task {__dl.split('_')[-1]}\"\n",
    "        if __dl not in reformatted_tst_results:\n",
    "            reformatted_tst_results[__dl] = {}\n",
    "        reformatted_tst_results[__dl][__il] = __acc\n",
    "        if __il == \"TIL\":\n",
    "            til_acc.append(__acc)\n",
    "        else:\n",
    "            cil_acc.append(__acc)\n",
    "reformatted_tst_results[\"Avg\"] = {\n",
    "    \"TIL\": sum(til_acc) / len(til_acc),\n",
    "    \"CIL\": sum(cil_acc) / len(cil_acc),\n",
    "}\n",
    "reformatted_tst_results = pd.DataFrame(reformatted_tst_results)\n",
    "print(\n",
    "    reformatted_tst_results.to_markdown(\n",
    "        floatfmt=\"2.2%\",\n",
    "        tablefmt=\"fancy_outline\",\n",
    "        stralign=\"center\",\n",
    "        numalign=\"center\",\n",
    "    )\n",
    ")"
   ],
   "metadata": {
    "collapsed": false,
    "ExecuteTime": {
     "start_time": "2023-04-18T12:40:00.147291Z",
     "end_time": "2023-04-18T12:40:00.282567Z"
    }
   }
  },
  {
   "cell_type": "markdown",
   "source": [
    "For reference, here are the results with normal initialization and linear scaling:\n",
    "╒═════╤══════════╤══════════╤══════════╤══════════╤══════════╤════════╕\n",
    "│     │  Task 0  │  Task 1  │  Task 2  │  Task 3  │  Task 4  │  Avg   │\n",
    "╞═════╪══════════╪══════════╪══════════╪══════════╪══════════╪════════╡\n",
    "│ CIL │  40.25%  │  5.20%   │  49.05%  │  61.40%  │  51.15%  │ 41.41% │\n",
    "│ TIL │  90.60%  │  76.65%  │  89.35%  │  93.65%  │  94.20%  │ 88.89% │\n",
    "╘═════╧══════════╧══════════╧══════════╧══════════╧══════════╧════════╛"
   ],
   "metadata": {
    "collapsed": false
   }
  }
 ],
 "metadata": {
  "kernelspec": {
   "display_name": "Python 3",
   "language": "python",
   "name": "python3"
  },
  "language_info": {
   "codemirror_mode": {
    "name": "ipython",
    "version": 2
   },
   "file_extension": ".py",
   "mimetype": "text/x-python",
   "name": "python",
   "nbconvert_exporter": "python",
   "pygments_lexer": "ipython2",
   "version": "2.7.6"
  }
 },
 "nbformat": 4,
 "nbformat_minor": 0
}
