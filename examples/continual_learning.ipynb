{
 "cells": [
  {
   "cell_type": "markdown",
   "source": [
    "# Continual Learning on Split CIFAR-10"
   ],
   "metadata": {
    "collapsed": false
   }
  },
  {
   "cell_type": "markdown",
   "source": [
    "## Prepare the Dataset"
   ],
   "metadata": {
    "collapsed": false
   }
  },
  {
   "cell_type": "code",
   "execution_count": 1,
   "outputs": [
    {
     "name": "stdout",
     "output_type": "stream",
     "text": [
      "Files already downloaded and verified\n",
      "Files already downloaded and verified\n"
     ]
    }
   ],
   "source": [
    "from pathlib import Path\n",
    "\n",
    "from avalanche.benchmarks.classic import SplitCIFAR10\n",
    "\n",
    "\n",
    "example_dir_path = Path().resolve()\n",
    "data_dir_path = Path.joinpath(example_dir_path, \"data\")\n",
    "\n",
    "split_cifar10 = SplitCIFAR10(\n",
    "    n_experiences=5,\n",
    "    dataset_root=Path.joinpath(data_dir_path, \"cifar10\"),\n",
    "    shuffle=False,\n",
    "    return_task_id=True,\n",
    "    class_ids_from_zero_in_each_exp=True,\n",
    ")"
   ],
   "metadata": {
    "collapsed": false
   }
  },
  {
   "cell_type": "markdown",
   "source": [
    "## Define the Lightning Module"
   ],
   "metadata": {
    "collapsed": false
   }
  },
  {
   "cell_type": "code",
   "execution_count": 2,
   "outputs": [],
   "source": [
    "import pytorch_lightning as pl\n",
    "import timm\n",
    "import torch\n",
    "import torch.nn as nn\n",
    "\n",
    "# Must import `hat.networks` to register the models\n",
    "# noinspection PyUnresolvedReferences\n",
    "import hat.networks\n",
    "from hat import HATConfig, HATPayload\n",
    "from hat.utils import get_hat_reg_term\n",
    "\n",
    "\n",
    "class ContinualClassifier(pl.LightningModule):\n",
    "    def __init__(self, num_classes_per_exp, max_mask_scale=100.0):\n",
    "        super().__init__()\n",
    "        self.num_classes_per_exp = num_classes_per_exp\n",
    "        self.max_mask_scale = max_mask_scale\n",
    "        _hat_config = HATConfig(\n",
    "            num_tasks=len(num_classes_per_exp),\n",
    "        )\n",
    "        self.backbone = timm.create_model(\n",
    "            \"hat_resnet18s\",\n",
    "            num_classes=0,\n",
    "            hat_config=_hat_config,\n",
    "        )\n",
    "        self.heads = nn.ModuleList(\n",
    "            [nn.Linear(512, __c) for __c in num_classes_per_exp]\n",
    "        )\n",
    "        self.criterion = nn.CrossEntropyLoss()\n",
    "\n",
    "    def forward(self, images, task_id, mask_scale=None):\n",
    "        pld = HATPayload(images, task_id=task_id, mask_scale=mask_scale)\n",
    "        return self.heads[pld.task_id](self.backbone(pld).data)\n",
    "\n",
    "    def training_step(self, batch, batch_idx):\n",
    "        images, targets, task_id = batch\n",
    "        # Progress is the percentage of the epoch completed\n",
    "        # We use sliding mask scale to gradually increase the masking\n",
    "        _progress = (batch_idx + 1) / self.trainer.num_training_batches\n",
    "        _mask_scale = _progress * self.max_mask_scale\n",
    "        logits = self.forward(images, task_id, _mask_scale)\n",
    "        loss = self.criterion(logits, targets)\n",
    "        reg = get_hat_reg_term(\n",
    "            module=self.backbone,\n",
    "            reg_strategy=\"uniform\",\n",
    "            task_id=task_id,\n",
    "            mask_scale=_mask_scale,\n",
    "        )\n",
    "        return loss + reg\n",
    "\n",
    "    def test_step(self, batch, batch_idx, dataloader_idx):\n",
    "        images, targets, task_id = batch\n",
    "        # Class-incremental learning\n",
    "        # Iterate through all the tasks and compute the logits\n",
    "        logits = []\n",
    "        for __task_id in range(len(self.heads)):\n",
    "            logits.append(self.forward(images, __task_id, self.max_mask_scale))\n",
    "        # Class-incremental testing\n",
    "        cil_logits = torch.cat(logits, dim=1)\n",
    "        cil_targets = targets + sum(self.num_classes_per_exp[:task_id])\n",
    "        cil_acc = cil_logits.argmax(dim=1) == cil_targets\n",
    "        # Task-incremental testing\n",
    "        til_logits = logits[task_id]\n",
    "        til_acc = til_logits.argmax(dim=1) == targets\n",
    "        self.log_dict(\n",
    "            {\n",
    "                \"cil_acc\": cil_acc.float().mean(),\n",
    "                \"til_acc\": til_acc.float().mean(),\n",
    "            },\n",
    "            batch_size=images.shape[0],\n",
    "        )\n",
    "\n",
    "    def configure_optimizers(self):\n",
    "        return torch.optim.Adam(self.parameters(), lr=1e-3)"
   ],
   "metadata": {
    "collapsed": false
   }
  },
  {
   "cell_type": "markdown",
   "source": [
    "## Train the Model for Each Task"
   ],
   "metadata": {
    "collapsed": false
   }
  },
  {
   "cell_type": "code",
   "execution_count": 3,
   "outputs": [
    {
     "name": "stdout",
     "output_type": "stream",
     "text": [
      "Training on task/experience 0\n",
      "Training on task/experience 1\n",
      "Training on task/experience 2\n",
      "Training on task/experience 3\n",
      "Training on task/experience 4\n"
     ]
    }
   ],
   "source": [
    "import logging\n",
    "import warnings\n",
    "\n",
    "from torch.utils.data import DataLoader\n",
    "\n",
    "\n",
    "log = logging.getLogger(\"pytorch_lightning\")\n",
    "log.propagate = False\n",
    "log.setLevel(logging.ERROR)\n",
    "\n",
    "log = logging.getLogger(\"lightning_fabric\")\n",
    "log.propagate = False\n",
    "log.setLevel(logging.ERROR)\n",
    "\n",
    "warnings.filterwarnings(\"ignore\", category=UserWarning)\n",
    "\n",
    "clf = ContinualClassifier(split_cifar10.n_classes_per_exp)\n",
    "device = \"cuda\"\n",
    "strategy = \"ddp_notebook_find_unused_parameters_true\"\n",
    "\n",
    "\n",
    "def collate_fn(batch):\n",
    "    images, targets, task_ids = zip(*batch)\n",
    "    return (torch.stack(images), torch.tensor(targets), int(task_ids[0]))\n",
    "\n",
    "\n",
    "for __task_id, __trn_exp in enumerate(split_cifar10.train_stream):\n",
    "    print(f\"Training on task/experience {__task_id}\")\n",
    "    trainer = pl.Trainer(\n",
    "        max_epochs=5,\n",
    "        accelerator=device,\n",
    "        strategy=strategy,\n",
    "    )\n",
    "    dataloader = DataLoader(\n",
    "        __trn_exp.dataset,\n",
    "        batch_size=128,\n",
    "        shuffle=True,\n",
    "        num_workers=8,\n",
    "        pin_memory=True if device == \"cuda\" else False,\n",
    "        collate_fn=collate_fn,\n",
    "    )\n",
    "    trainer.fit(clf, dataloader)"
   ],
   "metadata": {
    "collapsed": false
   }
  },
  {
   "cell_type": "markdown",
   "source": [
    "## Test the Model"
   ],
   "metadata": {
    "collapsed": false
   }
  },
  {
   "cell_type": "code",
   "execution_count": 4,
   "outputs": [
    {
     "data": {
      "text/plain": "Testing: 0it [00:00, ?it/s]",
      "application/vnd.jupyter.widget-view+json": {
       "version_major": 2,
       "version_minor": 0,
       "model_id": "bba6fb32116e413d8b9d197ab874371f"
      }
     },
     "metadata": {},
     "output_type": "display_data"
    }
   ],
   "source": [
    "clf.freeze()\n",
    "for __m in clf.modules():\n",
    "    if isinstance(__m, nn.BatchNorm2d):\n",
    "        __m.track_running_stats = False\n",
    "\n",
    "trainer = pl.Trainer(\n",
    "    accelerator=device,\n",
    "    devices=1,\n",
    "    enable_model_summary=False,\n",
    ")\n",
    "tst_dataloaders = [\n",
    "    DataLoader(\n",
    "        __exp.dataset,\n",
    "        batch_size=128,\n",
    "        num_workers=8,\n",
    "        pin_memory=True if device == \"cuda\" else False,\n",
    "        collate_fn=collate_fn,\n",
    "    )\n",
    "    for __exp in split_cifar10.test_stream\n",
    "]\n",
    "tst_results = trainer.test(clf, tst_dataloaders, verbose=False)"
   ],
   "metadata": {
    "collapsed": false
   }
  },
  {
   "cell_type": "code",
   "execution_count": 5,
   "outputs": [
    {
     "name": "stdout",
     "output_type": "stream",
     "text": [
      "╒═════╤══════════╤══════════╤══════════╤══════════╤══════════╤════════╕\n",
      "│     │  Task 0  │  Task 1  │  Task 2  │  Task 3  │  Task 4  │  Avg   │\n",
      "╞═════╪══════════╪══════════╪══════════╪══════════╪══════════╪════════╡\n",
      "│ CIL │  56.20%  │  3.65%   │  22.15%  │  54.85%  │  26.20%  │ 32.61% │\n",
      "│ TIL │  91.80%  │  80.05%  │  79.95%  │  80.75%  │  89.10%  │ 84.33% │\n",
      "╘═════╧══════════╧══════════╧══════════╧══════════╧══════════╧════════╛\n"
     ]
    }
   ],
   "source": [
    "# Reformat results for better readability\n",
    "import pandas as pd\n",
    "\n",
    "reformatted_tst_results = {}\n",
    "til_acc, cil_acc = [], []\n",
    "for __tst_results in tst_results:\n",
    "    for __label, __acc in __tst_results.items():\n",
    "        __il, __dl = __label.split(\"/\")\n",
    "        __il = __il.split(\"_\")[0].upper()\n",
    "        __dl = f\"Task {__dl.split('_')[-1]}\"\n",
    "        if __dl not in reformatted_tst_results:\n",
    "            reformatted_tst_results[__dl] = {}\n",
    "        reformatted_tst_results[__dl][__il] = __acc\n",
    "        if __il == \"TIL\":\n",
    "            til_acc.append(__acc)\n",
    "        else:\n",
    "            cil_acc.append(__acc)\n",
    "reformatted_tst_results[\"Avg\"] = {\n",
    "    \"TIL\": sum(til_acc) / len(til_acc),\n",
    "    \"CIL\": sum(cil_acc) / len(cil_acc),\n",
    "}\n",
    "reformatted_tst_results = pd.DataFrame(reformatted_tst_results)\n",
    "print(\n",
    "    reformatted_tst_results.to_markdown(\n",
    "        floatfmt=\"2.2%\",\n",
    "        tablefmt=\"fancy_outline\",\n",
    "        stralign=\"center\",\n",
    "        numalign=\"center\",\n",
    "    )\n",
    ")"
   ],
   "metadata": {
    "collapsed": false
   }
  }
 ],
 "metadata": {
  "kernelspec": {
   "display_name": "Python 3",
   "language": "python",
   "name": "python3"
  },
  "language_info": {
   "codemirror_mode": {
    "name": "ipython",
    "version": 2
   },
   "file_extension": ".py",
   "mimetype": "text/x-python",
   "name": "python",
   "nbconvert_exporter": "python",
   "pygments_lexer": "ipython2",
   "version": "2.7.6"
  }
 },
 "nbformat": 4,
 "nbformat_minor": 0
}
